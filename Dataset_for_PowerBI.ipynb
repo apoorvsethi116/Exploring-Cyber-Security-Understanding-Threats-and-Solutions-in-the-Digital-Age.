{
 "cells": [
  {
   "cell_type": "code",
   "execution_count": 2,
   "id": "3752a79c-c08f-4532-ac4e-74a160ebd7fa",
   "metadata": {},
   "outputs": [
    {
     "name": "stdout",
     "output_type": "stream",
     "text": [
      "Cleaned data has been saved to cleaned_cybersecurity_data.csv.\n"
     ]
    }
   ],
   "source": [
    "import pandas as pd\n",
    "\n",
    "# Step 1: Load the dataset\n",
    "file_path = \"cybersecurity_attacks.csv\"  # Replace with your file path\n",
    "cyber_attack_df = pd.read_csv(file_path)\n",
    "\n",
    "# Step 2: Convert 'Timestamp' to datetime format\n",
    "if 'Timestamp' in cyber_attack_df.columns:\n",
    "    cyber_attack_df['Timestamp'] = pd.to_datetime(cyber_attack_df['Timestamp'], errors='coerce')\n",
    "\n",
    "# Step 3: Standardize categorical columns\n",
    "# Replace these column names with the actual ones in your dataset\n",
    "categorical_columns = ['Attack Type', 'Severity Level', 'Action Taken']\n",
    "\n",
    "for col in categorical_columns:\n",
    "    if col in cyber_attack_df.columns:\n",
    "        cyber_attack_df[col] = cyber_attack_df[col].str.strip().str.lower()\n",
    "\n",
    "# Optional: Replace null or inconsistent values in categorical columns\n",
    "# Example: Fill missing or inconsistent severity levels with 'unknown'\n",
    "if 'Severity Level' in cyber_attack_df.columns:\n",
    "    cyber_attack_df['Severity Level'] = cyber_attack_df['Severity Level'].fillna('unknown')\n",
    "\n",
    "# Step 4: Remove or handle rows with missing values\n",
    "cyber_attack_df = cyber_attack_df.dropna(subset=['Timestamp'])  # Remove rows with invalid/missing timestamps\n",
    "\n",
    "# Step 5: Save the cleaned data\n",
    "output_file = \"cleaned_cybersecurity_data.csv\"\n",
    "cyber_attack_df.to_csv(output_file, index=False)\n",
    "\n",
    "print(f\"Cleaned data has been saved to {output_file}.\")\n"
   ]
  },
  {
   "cell_type": "code",
   "execution_count": null,
   "id": "f94d2648-6ce0-4e99-83db-e007282695b0",
   "metadata": {},
   "outputs": [],
   "source": []
  }
 ],
 "metadata": {
  "kernelspec": {
   "display_name": "Python 3 (ipykernel)",
   "language": "python",
   "name": "python3"
  },
  "language_info": {
   "codemirror_mode": {
    "name": "ipython",
    "version": 3
   },
   "file_extension": ".py",
   "mimetype": "text/x-python",
   "name": "python",
   "nbconvert_exporter": "python",
   "pygments_lexer": "ipython3",
   "version": "3.12.4"
  }
 },
 "nbformat": 4,
 "nbformat_minor": 5
}
